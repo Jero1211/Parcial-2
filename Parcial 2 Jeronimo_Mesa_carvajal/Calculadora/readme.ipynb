{
 "cells": [
  {
   "cell_type": "markdown",
   "metadata": {},
   "source": [
    "# Calculadora Básica\n",
    "\n",
    "Este es un proyecto simple de una calculadora web que permite realizar operaciones matemáticas básicas, incluyendo suma, resta, multiplicación, división, potencia y módulo.\n",
    "\n",
    "## Descripción\n",
    "\n",
    "La calculadora tiene una interfaz de usuario sencilla que permite a los usuarios ingresar dos números y seleccionar la operación que desean realizar. Los resultados se muestran inmediatamente en la misma página.\n",
    "\n",
    "## Funcionalidades\n",
    "\n",
    "- **Suma**: Suma dos números.\n",
    "- **Resta**: Resta el segundo número del primero.\n",
    "- **Multiplicación**: Multiplica dos números.\n",
    "- **División**: Divide el primer número por el segundo (verifica la división por cero).\n",
    "- **Potencia**: Eleva el primer número a la potencia del segundo.\n",
    "- **Módulo**: Calcula el residuo de la división del primer número entre el segundo.\n",
    "\n",
    "## Tecnologías Utilizadas\n",
    "\n",
    "- HTML\n",
    "- CSS\n",
    "- JavaScript\n",
    "\n",
    "## Instrucciones de Uso\n",
    "\n",
    "1. Abre el archivo `index.html` en tu navegador.\n",
    "2. Ingresa el primer número en el campo \"Número 1\".\n",
    "3. Ingresa el segundo número en el campo \"Número 2\".\n",
    "4. Haz clic en el botón de la operación que deseas realizar.\n",
    "5. El resultado aparecerá debajo de los botones.\n",
    "\n",
    "## Ejemplo de Uso\n",
    "\n",
    "- Para calcular \\( 5 + 3 \\):\n",
    "  - Ingrese `5` en \"Número 1\".\n",
    "  - Ingrese `3` en \"Número 2\".\n",
    "  - Haga clic en \"Sumar\".\n",
    "  - El resultado será `8`.\n",
    "\n",
    "## Contribuciones\n",
    "\n",
    "Las contribuciones son bienvenidas. Si deseas mejorar el proyecto, por favor abre un *pull request* o un *issue*.\n",
    "\n",
    "## Licencia\n",
    "\n",
    "Este proyecto está bajo la Licencia MIT. Consulta el archivo `LICENSE` para más detalles.\n"
   ]
  }
 ],
 "metadata": {
  "language_info": {
   "name": "python"
  }
 },
 "nbformat": 4,
 "nbformat_minor": 2
}
