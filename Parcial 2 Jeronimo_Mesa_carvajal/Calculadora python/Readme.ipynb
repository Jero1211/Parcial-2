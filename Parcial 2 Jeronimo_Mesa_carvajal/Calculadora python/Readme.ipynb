{
 "cells": [
  {
   "cell_type": "markdown",
   "metadata": {},
   "source": [
    "# Calculadora en Tkinter\n",
    "\n",
    "Esta es una calculadora básica desarrollada en Python utilizando la biblioteca Tkinter para la interfaz gráfica. Permite realizar operaciones aritméticas básicas como suma, resta, multiplicación, división y potencia.\n",
    "\n",
    "## Funcionalidades\n",
    "\n",
    "- **Suma**: Suma dos números.\n",
    "- **Resta**: Resta el segundo número del primero.\n",
    "- **Multiplicación**: Multiplica dos números.\n",
    "- **División**: Divide el primer número por el segundo (con manejo de división por cero).\n",
    "- **Potencia**: Eleva el primer número a la potencia del segundo (con manejo de potencia de cero).\n",
    "\n",
    "## Requisitos\n",
    "\n",
    "- Python 3.x\n",
    "- Tkinter (generalmente incluido con Python)\n",
    "\n",
    "## Cómo usar\n",
    "\n",
    "1. Clona o descarga este repositorio.\n",
    "2. Abre una terminal y navega a la carpeta donde se encuentra el archivo `calculadora.py`.\n",
    "3. Ejecuta el siguiente comando:\n",
    "\n",
    "   ```bash\n",
    "   python calculadora.py\n"
   ]
  }
 ],
 "metadata": {
  "language_info": {
   "name": "python"
  }
 },
 "nbformat": 4,
 "nbformat_minor": 2
}
